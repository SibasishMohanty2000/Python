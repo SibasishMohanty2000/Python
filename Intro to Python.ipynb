{
 "cells": [
  {
   "cell_type": "code",
   "execution_count": 1,
   "id": "658df678",
   "metadata": {},
   "outputs": [
    {
     "name": "stdout",
     "output_type": "stream",
     "text": [
      "Hello World\n"
     ]
    }
   ],
   "source": [
    "print(\"Hello World\")"
   ]
  },
  {
   "cell_type": "code",
   "execution_count": 2,
   "id": "2508e200",
   "metadata": {},
   "outputs": [
    {
     "name": "stdout",
     "output_type": "stream",
     "text": [
      "Sibasish\n"
     ]
    }
   ],
   "source": [
    "print(\"Sibasish\")"
   ]
  },
  {
   "cell_type": "markdown",
   "id": "9c2b6d46",
   "metadata": {},
   "source": [
    "Print(\"Sibasish\")\n"
   ]
  },
  {
   "cell_type": "code",
   "execution_count": 4,
   "id": "e4dcd93f",
   "metadata": {},
   "outputs": [
    {
     "ename": "NameError",
     "evalue": "name 'Print' is not defined",
     "output_type": "error",
     "traceback": [
      "\u001b[1;31m---------------------------------------------------------------------------\u001b[0m",
      "\u001b[1;31mNameError\u001b[0m                                 Traceback (most recent call last)",
      "Input \u001b[1;32mIn [4]\u001b[0m, in \u001b[0;36m<cell line: 1>\u001b[1;34m()\u001b[0m\n\u001b[1;32m----> 1\u001b[0m \u001b[43mPrint\u001b[49m(\u001b[38;5;124m\"\u001b[39m\u001b[38;5;124mSibasish\u001b[39m\u001b[38;5;124m\"\u001b[39m)\n",
      "\u001b[1;31mNameError\u001b[0m: name 'Print' is not defined"
     ]
    }
   ],
   "source": [
    "Print(\"Sibasish\")"
   ]
  },
  {
   "cell_type": "markdown",
   "id": "4367649f",
   "metadata": {},
   "source": [
    "### Python is case sensitive"
   ]
  },
  {
   "cell_type": "code",
   "execution_count": 5,
   "id": "7fdefca1",
   "metadata": {},
   "outputs": [
    {
     "name": "stdout",
     "output_type": "stream",
     "text": [
      "10\n"
     ]
    }
   ],
   "source": [
    "print(10)"
   ]
  },
  {
   "cell_type": "code",
   "execution_count": 6,
   "id": "1f10c4e8",
   "metadata": {},
   "outputs": [
    {
     "ename": "NameError",
     "evalue": "name 'sibasish' is not defined",
     "output_type": "error",
     "traceback": [
      "\u001b[1;31m---------------------------------------------------------------------------\u001b[0m",
      "\u001b[1;31mNameError\u001b[0m                                 Traceback (most recent call last)",
      "Input \u001b[1;32mIn [6]\u001b[0m, in \u001b[0;36m<cell line: 1>\u001b[1;34m()\u001b[0m\n\u001b[1;32m----> 1\u001b[0m \u001b[38;5;28mprint\u001b[39m(\u001b[43msibasish\u001b[49m)\n",
      "\u001b[1;31mNameError\u001b[0m: name 'sibasish' is not defined"
     ]
    }
   ],
   "source": [
    "print(sibasish)"
   ]
  },
  {
   "cell_type": "markdown",
   "id": "0d8b86a5",
   "metadata": {},
   "source": [
    "#### String should be within inverted comma (\"\")"
   ]
  },
  {
   "cell_type": "markdown",
   "id": "9e92dead",
   "metadata": {},
   "source": [
    "### Shortcut Keys"
   ]
  },
  {
   "cell_type": "markdown",
   "id": "2464a693",
   "metadata": {},
   "source": [
    "###### Run -> Shift + Enter"
   ]
  },
  {
   "cell_type": "markdown",
   "id": "9c8845e6",
   "metadata": {},
   "source": [
    "##### Add a cell above -> a\n",
    "##### Add a cell below -> b\n",
    "##### Delete a cell -> x"
   ]
  },
  {
   "cell_type": "code",
   "execution_count": 7,
   "id": "b4d107ad",
   "metadata": {},
   "outputs": [
    {
     "data": {
      "text/plain": [
       "int"
      ]
     },
     "execution_count": 7,
     "metadata": {},
     "output_type": "execute_result"
    }
   ],
   "source": [
    "x = 10\n",
    "type(x)"
   ]
  },
  {
   "cell_type": "code",
   "execution_count": 8,
   "id": "154cce2a",
   "metadata": {},
   "outputs": [
    {
     "data": {
      "text/plain": [
       "float"
      ]
     },
     "execution_count": 8,
     "metadata": {},
     "output_type": "execute_result"
    }
   ],
   "source": [
    "x = 11.34\n",
    "type(x)"
   ]
  },
  {
   "cell_type": "code",
   "execution_count": 9,
   "id": "6603f03e",
   "metadata": {},
   "outputs": [
    {
     "data": {
      "text/plain": [
       "str"
      ]
     },
     "execution_count": 9,
     "metadata": {},
     "output_type": "execute_result"
    }
   ],
   "source": [
    "x = ('Data science')\n",
    "type(x)"
   ]
  },
  {
   "cell_type": "markdown",
   "id": "ac0d2967",
   "metadata": {},
   "source": [
    "#### Variables"
   ]
  },
  {
   "cell_type": "code",
   "execution_count": 10,
   "id": "f068ecbc",
   "metadata": {},
   "outputs": [
    {
     "data": {
      "text/plain": [
       "('DS', 'BA', 'Math')"
      ]
     },
     "execution_count": 10,
     "metadata": {},
     "output_type": "execute_result"
    }
   ],
   "source": [
    "coursenames = (\"DS\", \"BA\" , \"Math\")\n",
    "coursenames"
   ]
  },
  {
   "cell_type": "code",
   "execution_count": 11,
   "id": "84ddf9cf",
   "metadata": {},
   "outputs": [
    {
     "ename": "SyntaxError",
     "evalue": "invalid syntax (2012602144.py, line 1)",
     "output_type": "error",
     "traceback": [
      "\u001b[1;36m  Input \u001b[1;32mIn [11]\u001b[1;36m\u001b[0m\n\u001b[1;33m    course names = (\"DS\", \"BA\" , \"Math\")\u001b[0m\n\u001b[1;37m           ^\u001b[0m\n\u001b[1;31mSyntaxError\u001b[0m\u001b[1;31m:\u001b[0m invalid syntax\n"
     ]
    }
   ],
   "source": [
    "course names = (\"DS\", \"BA\" , \"Math\")\n",
    "course names"
   ]
  },
  {
   "cell_type": "markdown",
   "id": "470b151b",
   "metadata": {},
   "source": [
    "##### Space is not allowed\n",
    "##### The only allowed special character is underscore (_)"
   ]
  },
  {
   "cell_type": "markdown",
   "id": "7cbdc663",
   "metadata": {},
   "source": [
    "##### Variable names should not start with a number"
   ]
  },
  {
   "cell_type": "markdown",
   "id": "7297a927",
   "metadata": {},
   "source": [
    "##### Name should start with A-Z, a-z , underscore (_)"
   ]
  },
  {
   "cell_type": "code",
   "execution_count": null,
   "id": "f312c2b0",
   "metadata": {},
   "outputs": [],
   "source": []
  }
 ],
 "metadata": {
  "kernelspec": {
   "display_name": "Python 3 (ipykernel)",
   "language": "python",
   "name": "python3"
  },
  "language_info": {
   "codemirror_mode": {
    "name": "ipython",
    "version": 3
   },
   "file_extension": ".py",
   "mimetype": "text/x-python",
   "name": "python",
   "nbconvert_exporter": "python",
   "pygments_lexer": "ipython3",
   "version": "3.9.12"
  }
 },
 "nbformat": 4,
 "nbformat_minor": 5
}
